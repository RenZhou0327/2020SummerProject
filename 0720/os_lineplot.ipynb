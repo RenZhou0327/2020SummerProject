{
 "cells": [
  {
   "cell_type": "code",
   "execution_count": 2,
   "metadata": {},
   "outputs": [
    {
     "name": "stdout",
     "output_type": "stream",
     "text": [
      "Writing os_lineplot.py\n"
     ]
    }
   ],
   "source": [
    "%%writefile os_lineplot.py\n",
    "import seaborn as sns\n",
    "import pandas as pd\n",
    "import matplotlib.pyplot as plt\n",
    "%matplotlib qt\n",
    "plt.figure(figsize=(12.8, 4.8))\n",
    "# %% load data\n",
    "data1 = pd.DataFrame(\n",
    "    [\n",
    "        [\"2018\", 0.0126, 'Android'],\n",
    "        [\"2018\", 0.0491, 'IOS'],\n",
    "        [\"2019\", 0.0241, 'Android'],\n",
    "        [\"2019\", 0.0345, 'IOS'],\n",
    "        [\"2020\", 0.0123, 'Android'],\n",
    "        [\"2020\", 0.0234, 'IOS'],\n",
    "    ], columns=['Year', 'Rate', 'OS']\n",
    ")\n",
    "\n",
    "data2 = pd.DataFrame(\n",
    "    [\n",
    "        [\"2018\", 0.2824, 'Android'],\n",
    "        [\"2018\", 0.3586, 'IOS'],\n",
    "        [\"2019\", 0.3732, 'Android'],\n",
    "        [\"2019\", 0.3456, 'IOS'],\n",
    "        [\"2020\", 0.2143, 'Android'],\n",
    "        [\"2020\", 0.3214, 'IOS'],\n",
    "    ], columns=['Year', 'Rate', 'OS']\n",
    ")\n",
    "\n",
    "# %% plot\n",
    "ax1 = plt.subplot(121)\n",
    "g1 = sns.lineplot(x='Year', y='Rate', hue='OS', data=data1, style=\"OS\", markers=True, dashes=False)\n",
    "plt.ylim(0)\n",
    "plt.legend([\"Android\", \"IOS\"], loc=\"upper right\", fontsize=8)\n",
    "ax2 = plt.subplot(122)\n",
    "g2 = sns.lineplot(x='Year', y='Rate', hue='OS', data=data2, style=\"OS\", markers=True, dashes=False)\n",
    "plt.legend([\"Android\", \"IOS\"], loc=\"upper right\", fontsize=8)\n",
    "plt.ylim(0)\n",
    "plt.show()\n"
   ]
  },
  {
   "cell_type": "code",
   "execution_count": 1,
   "metadata": {},
   "outputs": [
    {
     "name": "stdout",
     "output_type": "stream",
     "text": [
      "C:\\Users\\HP\n"
     ]
    }
   ],
   "source": [
    "import os\n",
    "print(os.path.abspath('.'))"
   ]
  },
  {
   "cell_type": "code",
   "execution_count": null,
   "metadata": {},
   "outputs": [],
   "source": []
  },
  {
   "cell_type": "code",
   "execution_count": null,
   "metadata": {},
   "outputs": [],
   "source": []
  }
 ],
 "metadata": {
  "kernelspec": {
   "display_name": "Python 3",
   "language": "python",
   "name": "python3"
  },
  "language_info": {
   "codemirror_mode": {
    "name": "ipython",
    "version": 3
   },
   "file_extension": ".py",
   "mimetype": "text/x-python",
   "name": "python",
   "nbconvert_exporter": "python",
   "pygments_lexer": "ipython3",
   "version": "3.7.3"
  }
 },
 "nbformat": 4,
 "nbformat_minor": 4
}
